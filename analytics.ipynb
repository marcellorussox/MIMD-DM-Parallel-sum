{
 "cells": [
  {
   "cell_type": "markdown",
   "source": [
    "# Analisi delle performance\n",
    "## Passo 1: Generare dati\n",
    "Automatizziamo la generazione di dati con il seguente blocco di codice che ci consente di ottenere informazioni sulle performance dell'algoritmo.\n",
    "Possiamo modificare le variabili di N_PROCESSORI, N_START_INPUT, STRATEGIA, OFFSET e N_CICLI per ottenere set di informazioni diversi."
   ],
   "metadata": {
    "collapsed": false
   }
  },
  {
   "cell_type": "code",
   "execution_count": 7,
   "outputs": [],
   "source": [
    "import subprocess\n",
    "\n",
    "N_PROCESSORI = 4\n",
    "N_START_INPUT = 2000\n",
    "STRATEGIA = 2\n",
    "OFFSET = 1000\n",
    "N_CICLI = 5\n",
    "\n",
    "for i in range(N_CICLI):\n",
    "    comando = [\"mpirun\", \"-n\", str(N_PROCESSORI), \"./pdc1\", str(STRATEGIA), str(N_START_INPUT)]\n",
    "    try:\n",
    "        subprocess.run(comando, text=True, capture_output=True, check=True)\n",
    "    except subprocess.CalledProcessError as e:\n",
    "        exit(1)\n",
    "    N_START_INPUT += OFFSET\n"
   ],
   "metadata": {
    "collapsed": false
   }
  },
  {
   "cell_type": "markdown",
   "source": [
    "## Passo 2: Analizzare le informazioni estratte\n",
    "Il seguente script si occupa della lettura del file CSV per estrarre i dati di nostro interesse e costruire i grafici"
   ],
   "metadata": {
    "collapsed": false
   }
  },
  {
   "cell_type": "code",
   "execution_count": null,
   "outputs": [],
   "source": [],
   "metadata": {
    "collapsed": false
   }
  }
 ],
 "metadata": {
  "kernelspec": {
   "display_name": "Python 3",
   "language": "python",
   "name": "python3"
  },
  "language_info": {
   "codemirror_mode": {
    "name": "ipython",
    "version": 2
   },
   "file_extension": ".py",
   "mimetype": "text/x-python",
   "name": "python",
   "nbconvert_exporter": "python",
   "pygments_lexer": "ipython2",
   "version": "2.7.6"
  }
 },
 "nbformat": 4,
 "nbformat_minor": 0
}
