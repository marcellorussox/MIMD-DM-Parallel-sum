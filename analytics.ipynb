{
 "cells": [
  {
   "cell_type": "markdown",
   "source": [
    "## Passo 1: Calcolare la media dei tempi di esecuzione\n",
    "Il seguente script è necessario per calcolare la media delle rilevazioni dei tempi di esecuzione."
   ],
   "metadata": {
    "collapsed": false
   }
  },
  {
   "cell_type": "code",
   "execution_count": 27,
   "outputs": [],
   "source": [
    "import pandas as pd\n",
    "\n",
    "# Leggi il file CSV\n",
    "df = pd.read_csv('output/analytics_data.csv')\n",
    "\n",
    "# Raggruppa i dati per le colonne 0, 1 e 2 e calcola la media sulla colonna 3\n",
    "df_grouped = df.groupby([df.columns[0], df.columns[1], df.columns[2]])[df.columns[3]].mean().reset_index()\n",
    "\n",
    "# Salva il risultato in un nuovo file CSV\n",
    "df_grouped.to_csv('output/analytics_data_mean.csv', index=False)\n"
   ],
   "metadata": {
    "collapsed": false,
    "ExecuteTime": {
     "end_time": "2023-10-23T18:39:11.662586Z",
     "start_time": "2023-10-23T18:39:11.642790Z"
    }
   }
  },
  {
   "cell_type": "markdown",
   "source": [
    "## Passo 2: Calcolo di Speed-up ed Efficienza\n",
    "Lo script seguente calcola e aggiunge le colonne di Speed-up ed Efficienza al file .CSV"
   ],
   "metadata": {
    "collapsed": false
   }
  },
  {
   "cell_type": "code",
   "execution_count": 28,
   "outputs": [],
   "source": [
    "import numpy as np\n",
    "import pandas as pd\n",
    "\n",
    "df = pd.read_csv('output/analytics_data_mean.csv')\n",
    "\n",
    "\n",
    "def calculate_speedup(row):\n",
    "    base_row = df[(df['NPROC'] == 1) & (df['NINPUT'] == row['NINPUT']) & (df['STRATEGIA'] == row['STRATEGIA'])]\n",
    "    if len(base_row) > 0:\n",
    "        return base_row['TEMPO'].values[0] / row['TEMPO']\n",
    "    return np.nan\n",
    "\n",
    "\n",
    "df['SPEEDUP'] = df.apply(calculate_speedup, axis=1)\n",
    "\n",
    "# Calcola l'efficienza solo per i valori di speedup diversi da NaN\n",
    "df['EFFICIENZA'] = np.where(df['SPEEDUP'].notna(), df['SPEEDUP'] / df['NPROC'], np.nan)\n",
    "\n",
    "df.to_csv('output/analytics_data_complete.csv', index=False)\n"
   ],
   "metadata": {
    "collapsed": false,
    "ExecuteTime": {
     "end_time": "2023-10-23T18:39:15.874088Z",
     "start_time": "2023-10-23T18:39:15.851591Z"
    }
   }
  },
  {
   "cell_type": "markdown",
   "source": [
    "## Passo 3: Disegnare i grafici\n",
    "Il seguente script si occupa della lettura del file .CSV per estrarre i dati di nostro interesse e disegnare i grafici."
   ],
   "metadata": {
    "collapsed": false
   }
  },
  {
   "cell_type": "code",
   "execution_count": 30,
   "outputs": [],
   "source": [
    "import pandas as pd\n",
    "import matplotlib.pyplot as plt\n",
    "\n",
    "def create_graphs(dataframe, x_col, y_cols, nproc_fixed=None, ninput_fixed=None, x_min=None, x_max=None, save_path=None):\n",
    "    \"\"\"\n",
    "    Crea sei grafici a seconda dei parametri forniti.\n",
    "    \n",
    "    Args:\n",
    "        dataframe (pd.DataFrame): Il DataFrame contenente i dati.\n",
    "        x_col (str): Nome della colonna da utilizzare per le ascisse.\n",
    "        y_cols (list): Lista di nomi delle colonne da utilizzare per le ordinate.\n",
    "        nproc_fixed (int): Numero di processori fisso (usato solo se specificato).\n",
    "        ninput_fixed (int): Numero di input fisso (usato solo se specificato).\n",
    "        save_path (str): Percorso per salvare i grafici (formato: 'nome_file.png').\n",
    "        x_min (float): Valore minimo per le ascisse.\n",
    "        x_max (float): Valore massimo per le ascisse.\n",
    "    \"\"\"\n",
    "    \n",
    "    if x_min is not None and x_max is not None:\n",
    "        dataframe = dataframe[(dataframe[x_col] >= x_min) & (dataframe[x_col] <= x_max)]\n",
    "\n",
    "    if nproc_fixed is not None and ninput_fixed is None:\n",
    "        # Grafici con NPROC fisso e variazione di NINPUT\n",
    "        for y_col in y_cols:\n",
    "            for strategy in dataframe['STRATEGIA'].unique():\n",
    "                strategy_data = dataframe[(dataframe['NPROC'] == nproc_fixed) & (dataframe['STRATEGIA'] == strategy)]\n",
    "                if x_min is not None and x_max is not None:\n",
    "                    plt.xlim(x_min, x_max)\n",
    "                plt.plot(strategy_data[x_col], strategy_data[y_col], label=strategy)\n",
    "            plt.xlabel(x_col)\n",
    "            plt.ylabel(y_col)\n",
    "            plt.xticks(dataframe['NINPUT'].unique())  # Imposta le ascisse con valori specifici\n",
    "            plt.legend()\n",
    "            plt.title(f'NPROC {nproc_fixed}, {y_col} vs {x_col}')\n",
    "            plt.savefig(save_path + '_' + y_col + '.png')\n",
    "            plt.close()\n",
    "    else:\n",
    "        # Grafici con NINPUT fisso e variazione di NPROC\n",
    "        for y_col in y_cols:\n",
    "            for strategy in dataframe['STRATEGIA'].unique():\n",
    "                strategy_data = dataframe[(dataframe['NINPUT'] == ninput_fixed) & (dataframe['STRATEGIA'] == strategy)]\n",
    "                plt.plot(strategy_data['NPROC'], strategy_data[y_col], label=strategy)\n",
    "            plt.xlabel(x_col)\n",
    "            plt.ylabel(y_col)\n",
    "            plt.xticks(dataframe['NPROC'].unique())  # Imposta le ascisse con valori specifici\n",
    "            plt.legend()\n",
    "            plt.title(f'NINPUT {ninput_fixed}, {y_col} vs Nproc')\n",
    "            plt.savefig(save_path + '_' + y_col + '.png')\n",
    "            plt.close()\n",
    "\n",
    "# Esempio di utilizzo con intervallo per le ascisse\n",
    "data = pd.read_csv('output/analytics_data_complete.csv')\n",
    "create_graphs(data, 'NINPUT', ['TEMPO', 'SPEEDUP', 'EFFICIENZA'], nproc_fixed=8, x_min=1000000, x_max=500000000, save_path='output/plots/nproc_fixed')\n",
    "create_graphs(data, 'NPROC', ['TEMPO', 'SPEEDUP', 'EFFICIENZA'], ninput_fixed=200000000, x_min=16, x_max=64, save_path='output/plots/ninput_fixed')\n"
   ],
   "metadata": {
    "collapsed": false,
    "ExecuteTime": {
     "end_time": "2023-10-23T18:44:19.393080Z",
     "start_time": "2023-10-23T18:44:18.919486Z"
    }
   }
  },
  {
   "cell_type": "code",
   "execution_count": null,
   "outputs": [],
   "source": [],
   "metadata": {
    "collapsed": false
   }
  },
  {
   "cell_type": "code",
   "execution_count": null,
   "outputs": [],
   "source": [],
   "metadata": {
    "collapsed": false
   }
  }
 ],
 "metadata": {
  "kernelspec": {
   "display_name": "Python 3",
   "language": "python",
   "name": "python3"
  },
  "language_info": {
   "codemirror_mode": {
    "name": "ipython",
    "version": 2
   },
   "file_extension": ".py",
   "mimetype": "text/x-python",
   "name": "python",
   "nbconvert_exporter": "python",
   "pygments_lexer": "ipython2",
   "version": "2.7.6"
  }
 },
 "nbformat": 4,
 "nbformat_minor": 0
}
