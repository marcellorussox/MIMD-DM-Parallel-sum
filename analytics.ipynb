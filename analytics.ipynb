{
 "cells": [
  {
   "cell_type": "markdown",
   "source": [
    "# Analisi delle performance\n",
    "## Passo 1: Generare dati\n",
    "Automatizziamo la generazione di dati con il seguente blocco di codice che ci consente di ottenere informazioni sulle performance dell'algoritmo.\n",
    "Possiamo modificare le variabili di N_PROCESSORI, N_START_INPUT, STRATEGIA, OFFSET e N_CICLI per ottenere set di informazioni diversi."
   ],
   "metadata": {
    "collapsed": false
   }
  },
  {
   "cell_type": "code",
   "execution_count": null,
   "outputs": [],
   "source": [
    "import subprocess\n",
    "\n",
    "N_PROCESSORI = 4\n",
    "N_START_INPUT = 2000\n",
    "STRATEGIA = 2\n",
    "OFFSET = 1000\n",
    "N_CICLI = 5\n",
    "\n",
    "for i in range(N_CICLI):\n",
    "    comando = [\"mpirun\", \"-n\", str(N_PROCESSORI), \"./pdc1\", str(STRATEGIA), str(N_START_INPUT)]\n",
    "    try:\n",
    "        subprocess.run(comando, text=True, capture_output=True, check=True)\n",
    "    except subprocess.CalledProcessError as e:\n",
    "        exit(1)\n",
    "    N_START_INPUT += OFFSET\n"
   ],
   "metadata": {
    "collapsed": false,
    "is_executing": true
   }
  },
  {
   "cell_type": "markdown",
   "source": [
    "## Passo 2: Analizzare le informazioni estratte\n",
    "Il seguente script si occupa della lettura del file CSV per estrarre i dati di nostro interesse e costruire i grafici"
   ],
   "metadata": {
    "collapsed": false
   }
  },
  {
   "cell_type": "code",
   "execution_count": null,
   "outputs": [],
   "source": [
    "import pandas as pd\n",
    "import matplotlib.pyplot as plt\n",
    "\n",
    "# Leggi il file CSV\n",
    "data = pd.read_csv('nome_del_tuo_file.csv')\n",
    "\n",
    "strategy1_data = data[data.iloc[:, 2] == 1]  # Terza colonna (numero della strategia)\n",
    "strategy2_data = data[data.iloc[:, 2] == 2]\n",
    "strategy3_data = data[data.iloc[:, 2] == 3]\n",
    "\n",
    "# Crea i grafici per la quarta colonna (tempo di esecuzione)\n",
    "plt.figure(figsize=(12, 4))\n",
    "plt.subplot(131)\n",
    "plt.plot(strategy1_data.iloc[:, 1], strategy1_data.iloc[:, 3], label='Strategia 1')  # Seconda colonna (tempo di esecuzione)\n",
    "plt.plot(strategy2_data.iloc[:, 1], strategy2_data.iloc[:, 3], label='Strategia 2')\n",
    "plt.plot(strategy3_data.iloc[:, 1], strategy3_data.iloc[:, 3], label='Strategia 3')\n",
    "plt.xlabel('Quantità di numeri reali da sommare')\n",
    "plt.ylabel('Tempo di esecuzione (s)')\n",
    "plt.legend()\n",
    "\n",
    "# Crea i grafici per la quinta colonna (speed up)\n",
    "plt.subplot(132)\n",
    "plt.plot(strategy1_data.iloc[:, 1], strategy1_data.iloc[:, 4], label='Strategia 1')  # Seconda colonna (speed up)\n",
    "plt.plot(strategy2_data.iloc[:, 1], strategy2_data.iloc[:, 4], label='Strategia 2')\n",
    "plt.plot(strategy3_data.iloc[:, 1], strategy3_data.iloc[:, 4], label='Strategia 3')\n",
    "plt.xlabel('Quantità di numeri reali da sommare')\n",
    "plt.ylabel('Speed Up')\n",
    "plt.legend()\n",
    "\n",
    "# Crea i grafici per la sesta colonna (speed up normalizzato)\n",
    "plt.subplot(133)\n",
    "plt.plot(strategy1_data.iloc[:, 1], strategy1_data.iloc[:, 5], label='Strategia 1')  # Seconda colonna (speed up normalizzato)\n",
    "plt.plot(strategy2_data.iloc[:, 1], strategy2_data.iloc[:, 5], label='Strategia 2')\n",
    "plt.plot(strategy3_data.iloc[:, 1], strategy3_data.iloc[:, 5], label='Strategia 3')\n",
    "plt.xlabel('Quantità di numeri reali da sommare')\n",
    "plt.ylabel('Efficienza')\n",
    "plt.legend()\n",
    "\n",
    "plt.tight_layout()\n",
    "plt.show()\n"
   ],
   "metadata": {
    "collapsed": false,
    "is_executing": true
   }
  },
  {
   "cell_type": "code",
   "execution_count": null,
   "outputs": [],
   "source": [],
   "metadata": {
    "collapsed": false,
    "is_executing": true
   }
  },
  {
   "cell_type": "code",
   "execution_count": null,
   "outputs": [],
   "source": [],
   "metadata": {
    "collapsed": false
   }
  }
 ],
 "metadata": {
  "kernelspec": {
   "display_name": "Python 3",
   "language": "python",
   "name": "python3"
  },
  "language_info": {
   "codemirror_mode": {
    "name": "ipython",
    "version": 2
   },
   "file_extension": ".py",
   "mimetype": "text/x-python",
   "name": "python",
   "nbconvert_exporter": "python",
   "pygments_lexer": "ipython2",
   "version": "2.7.6"
  }
 },
 "nbformat": 4,
 "nbformat_minor": 0
}
